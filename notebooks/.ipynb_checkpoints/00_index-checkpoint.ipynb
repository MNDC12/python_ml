{
 "cells": [
  {
   "cell_type": "markdown",
   "metadata": {},
   "source": [
    "# Python_ml\n",
    "\n",
    "1. open https://colab.research.google.com/\n",
    "2. File > open notebook > github > https://github.com/ogbinar/python_ml\n",
    "3. Select notebooks/index.ipynb\n"
   ]
  },
  {
   "cell_type": "markdown",
   "metadata": {},
   "source": [
    "Topic Summary: [Python ml Content](98_contents.ipynb)"
   ]
  },
  {
   "cell_type": "markdown",
   "metadata": {},
   "source": [
    "# Collaborative Learning\n",
    "\n",
    "* If you DON’T know, ask in ZOOM or Slack\n",
    "* You can also refer to: google, online API references, stack overflow\n",
    "* If you’re NOT SURE, validate in ZOOM or Slack\n",
    "* If you DO know, share in ZOOM or Slack \n",
    "* Feel free to correct me, or add on the topic \n",
    "* Say your name, say your name\n"
   ]
  },
  {
   "cell_type": "markdown",
   "metadata": {},
   "source": [
    "# Fun Activities\n",
    "\n",
    "* Programming is a Personal Journey\n",
    "* Nothing stops you from learning from others - Pair Programming\n",
    "* Notebooks will be provided\n",
    "* During exercises, if you finish early – HELP OTHERS OUT"
   ]
  },
  {
   "cell_type": "markdown",
   "metadata": {},
   "source": [
    "---"
   ]
  },
  {
   "cell_type": "markdown",
   "metadata": {},
   "source": [
    "# Scikit-learn\n",
    "Scikit-learn is an open source machine learning library that supports supervised and unsupervised learning. It also provides various tools for model fitting, data preprocessing, model selection and evaluation, and many other utilities."
   ]
  },
  {
   "cell_type": "markdown",
   "metadata": {},
   "source": [
    "![Alt Text](../img/1_WfNLmA1PNHoJ5oXLOCDKZw.png)"
   ]
  },
  {
   "cell_type": "markdown",
   "metadata": {},
   "source": [
    "# Start your journey!"
   ]
  },
  {
   "cell_type": "markdown",
   "metadata": {},
   "source": [
    "**Start Here:** [Numpy Introduction](01_numpy.ipynb)"
   ]
  },
  {
   "cell_type": "markdown",
   "metadata": {},
   "source": [
    "Want to improve your data-fu? Click here for [Other References](99_resources.ipynb)"
   ]
  },
  {
   "cell_type": "markdown",
   "metadata": {},
   "source": [
    "    \n",
    "# Exploring the Data Science Community\n",
    "\n",
    "\n",
    "- [Machine Learning - Reddit](https://www.reddit.com/r/MachineLearning/)\n",
    "\n",
    "    The Reddit Machine Learning Community is one of the largest communities that is meant for industry professionals and is focused on practical aspects of building artificial intelligence systems.\n",
    "\n",
    "- [Data Science - Reddit](https://www.reddit.com/r/datascience)\n",
    "\n",
    "    A place for data science practitioners and professionals to discuss and debate data science career questions.\n",
    "\n",
    "- [Machine Learning and Data Science - LinkedIn](https://www.linkedin.com/groups/4298680/)\n",
    "\n",
    "    Largest Machine learning and Data Science community group in LinkedIn.\n",
    "\n",
    "- [datasciencephilippines - FB Group](https://www.facebook.com/groups/datasciencephilippines/)\n",
    "\n",
    "    This is a community moderated by Isaac Reyes and team.\n",
    "\n",
    "- [Analytics Associatoin of the Philippines - FB Group](https://www.facebook.com/groups/aap.public.forum/)\n",
    "\n",
    "    This is a community group run and moderated by AAP.\n",
    "\n",
    "\n",
    "PS. Don't forget [StackOverflow](https://stackoverflow.com/), [GitHub](https://www.kaggle.com/), and [Kaggle](https://github.com/)!\n",
    "\n",
    "<!-- -->\n"
   ]
  },
  {
   "cell_type": "code",
   "execution_count": null,
   "metadata": {},
   "outputs": [],
   "source": []
  }
 ],
 "metadata": {
  "kernelspec": {
   "display_name": "Python 3",
   "language": "python",
   "name": "python3"
  },
  "language_info": {
   "codemirror_mode": {
    "name": "ipython",
    "version": 3
   },
   "file_extension": ".py",
   "mimetype": "text/x-python",
   "name": "python",
   "nbconvert_exporter": "python",
   "pygments_lexer": "ipython3",
   "version": "3.8.3"
  }
 },
 "nbformat": 4,
 "nbformat_minor": 1
}
